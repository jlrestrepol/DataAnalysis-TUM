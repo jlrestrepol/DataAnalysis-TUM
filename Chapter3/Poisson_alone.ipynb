{
 "cells": [
  {
   "cell_type": "markdown",
   "metadata": {},
   "source": [
    "# Exercises 7 Chapter 3"
   ]
  },
  {
   "cell_type": "markdown",
   "metadata": {},
   "source": [
    "## Import Libraries"
   ]
  },
  {
   "cell_type": "code",
   "execution_count": 1,
   "metadata": {},
   "outputs": [],
   "source": [
    "import matplotlib.pyplot as plt\n",
    "import seaborn as sns\n",
    "from scipy.stats import poisson"
   ]
  },
  {
   "cell_type": "code",
   "execution_count": 2,
   "metadata": {},
   "outputs": [],
   "source": [
    "import pandas as pd\n",
    "import numpy as np"
   ]
  },
  {
   "cell_type": "markdown",
   "metadata": {},
   "source": [
    "# Smallest Interval"
   ]
  },
  {
   "cell_type": "markdown",
   "metadata": {},
   "source": [
    "## Create Table"
   ]
  },
  {
   "cell_type": "code",
   "execution_count": 3,
   "metadata": {},
   "outputs": [],
   "source": [
    "def Poiss_table(N,u):\n",
    "    pmf = np.array([round(poisson.pmf(n,u),4) for n in range(N)])\n",
    "    cdf = np.array([round(poisson.cdf(n,u),4) for n in range(N)])\n",
    "    i = np.argsort(pmf)[::-1]\n",
    "    r = np.array([np.where(i == x)[0][0]+1 for x in range(N)])\n",
    "    F_r = pmf[np.argsort(r)].cumsum()[r-1]\n",
    "    data = {'P(n|u)':pmf, 'F(n|u)':cdf, 'R':r, 'F_r(n|u)':F_r }\n",
    "    df = pd.DataFrame(data)\n",
    "    return df    "
   ]
  },
  {
   "cell_type": "markdown",
   "metadata": {},
   "source": [
    "## Smallest Interval"
   ]
  },
  {
   "cell_type": "code",
   "execution_count": 4,
   "metadata": {},
   "outputs": [],
   "source": [
    "def smallest(df,alpha):\n",
    "    srtd = df['F_r(n|u)'].reindex(np.argsort(df['R']))\n",
    "    upper = np.min(srtd[srtd>=alpha])\n",
    "    array = np.argwhere(srtd == upper)\n",
    "    sml = srtd[:array[0][0]+1]\n",
    "    return sml.index.to_numpy()"
   ]
  },
  {
   "cell_type": "markdown",
   "metadata": {},
   "source": [
    "## Band Plot"
   ]
  },
  {
   "cell_type": "code",
   "execution_count": 15,
   "metadata": {},
   "outputs": [],
   "source": [
    "intervals = []\n",
    "for uu in np.arange(0.2,14, 0.1):\n",
    "    df = Poiss_table(N=24,u=uu)\n",
    "    sml = smallest(df,0.68)\n",
    "    intervals.append((np.min(sml),np.max(sml)))\n",
    "intervals = np.array(intervals)"
   ]
  },
  {
   "cell_type": "code",
   "execution_count": 16,
   "metadata": {},
   "outputs": [
    {
     "data": {
      "image/png": "[encoded data removed]",
      "text/plain": [
       "<Figure size 576x432 with 1 Axes>"
      ]
     },
     "metadata": {
      "needs_background": "light"
     },
     "output_type": "display_data"
    }
   ],
   "source": [
    "plt.figure(figsize=[8.0,6.0])\n",
    "plt.xticks(ticks = np.arange(len(df)))\n",
    "plt.yticks(ticks = np.arange(len(intervals)+1, step = 10), labels=np.arange(int(len(intervals)/10+1)))\n",
    "plt.ylabel(r'$\\nu$')\n",
    "plt.xlabel('n')\n",
    "plt.grid()\n",
    "plt.title(r'Poisson 68% CL Bands for Smallest Interval')\n",
    "\n",
    "plt.vlines(x = intervals[:,0], ymin = np.arange(len(intervals)), ymax = np.arange(1,len(intervals)+1), colors='red')\n",
    "plt.vlines(x = intervals[:,1], ymin = np.arange(len(intervals)), ymax = np.arange(1,len(intervals)+1), colors='blue')\n",
    "#plt.fill_betweenx(y=np.arange(7), x1=intervals[:,0], x2 = intervals[:,1])\n",
    "a=0\n",
    "for e in intervals:\n",
    "    plt.fill_betweenx(y=np.array([a,a+1]), x1 = np.array([e[0],e[0]]), x2 = np.array(e[1],e[1]), color = 'gray')\n",
    "    a+=1"
   ]
  },
  {
   "cell_type": "markdown",
   "metadata": {},
   "source": [
    "# Reproduction of Figure 3.2 of Script"
   ]
  },
  {
   "cell_type": "code",
   "execution_count": 19,
   "metadata": {},
   "outputs": [],
   "source": [
    "intervals = []\n",
    "for uu in np.arange(0.1,12, 0.1):\n",
    "    df = Poiss_table(N=24,u=uu)\n",
    "    sml = smallest(df,0.90)\n",
    "    intervals.append((np.min(sml),np.max(sml)))\n",
    "intervals = np.array(intervals)"
   ]
  },
  {
   "cell_type": "code",
   "execution_count": 21,
   "metadata": {},
   "outputs": [
    {
     "data": {
      "image/png": "[encoded data removed]",
      "text/plain": [
       "<Figure size 576x432 with 1 Axes>"
      ]
     },
     "metadata": {
      "needs_background": "light"
     },
     "output_type": "display_data"
    }
   ],
   "source": [
    "plt.figure(figsize=[8.0,6.0])\n",
    "plt.xticks(ticks = np.arange(len(df)))\n",
    "plt.yticks(ticks = np.arange(len(intervals)+1, step = 10), labels=np.arange(int(len(intervals)/10+1)))\n",
    "plt.ylabel(r'$\\nu$')\n",
    "plt.xlabel('n')\n",
    "plt.grid()\n",
    "plt.title(r'Poisson 90% CL Bands for Smallest Interval')\n",
    "\n",
    "plt.vlines(x = intervals[:,0], ymin = np.arange(len(intervals)), ymax = np.arange(1,len(intervals)+1), colors='red')\n",
    "plt.vlines(x = intervals[:,1], ymin = np.arange(len(intervals)), ymax = np.arange(1,len(intervals)+1), colors='blue')\n",
    "#plt.fill_betweenx(y=np.arange(7), x1=intervals[:,0], x2 = intervals[:,1])\n",
    "a=0\n",
    "for e in intervals:\n",
    "    plt.fill_betweenx(y=np.array([a,a+1]), x1 = np.array([e[0],e[0]]), x2 = np.array(e[1],e[1]), color = 'gray')\n",
    "    a+=1"
   ]
  }
 ],
 "metadata": {
  "kernelspec": {
   "display_name": "Python (data-analysis)",
   "language": "python",
   "name": "data-analysis"
  },
  "language_info": {
   "codemirror_mode": {
    "name": "ipython",
    "version": 3
   },
   "file_extension": ".py",
   "mimetype": "text/x-python",
   "name": "python",
   "nbconvert_exporter": "python",
   "pygments_lexer": "ipython3",
   "version": "3.6.10"
  },
  "toc": {
   "base_numbering": 1,
   "nav_menu": {},
   "number_sections": true,
   "sideBar": true,
   "skip_h1_title": false,
   "title_cell": "Table of Contents",
   "title_sidebar": "Contents",
   "toc_cell": false,
   "toc_position": {},
   "toc_section_display": true,
   "toc_window_display": false
  }
 },
 "nbformat": 4,
 "nbformat_minor": 2
}
