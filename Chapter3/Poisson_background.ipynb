{
 "cells": [
  {
   "cell_type": "markdown",
   "metadata": {},
   "source": [
    "# Exercise 8 Chapter 3"
   ]
  },
  {
   "cell_type": "markdown",
   "metadata": {},
   "source": [
    "# Import Libraries"
   ]
  },
  {
   "cell_type": "code",
   "execution_count": 1,
   "metadata": {},
   "outputs": [],
   "source": [
    "import matplotlib.pyplot as plt\n",
    "import seaborn as sns\n",
    "from scipy.stats import poisson\n",
    "import pandas as pd\n",
    "import numpy as np"
   ]
  },
  {
   "cell_type": "markdown",
   "metadata": {},
   "source": [
    "# Feldman-Cousins Interval"
   ]
  },
  {
   "cell_type": "markdown",
   "metadata": {},
   "source": [
    "## Create Table"
   ]
  },
  {
   "cell_type": "code",
   "execution_count": 2,
   "metadata": {},
   "outputs": [],
   "source": [
    "def Poiss_table_FC(N,l,u):\n",
    "    pmf = np.array([round(poisson.pmf(n,u),4) for n in range(N)])\n",
    "    u_best = np.array([np.maximum(n,l) for n in range(N)])\n",
    "    pmf_best = np.array([round(poisson.pmf(n,u_best[n]),4) for n in range(N)])\n",
    "    r = np.round(pmf / pmf_best,3)\n",
    "    i = np.argsort(r)[::-1]\n",
    "    rank = np.array([np.where(i == x)[0][0]+1 for x in range(N)])\n",
    "    F_r = pmf[np.argsort(rank)].cumsum()[rank-1]\n",
    "    data = {'P(n|u)':pmf, 'u_best':u_best, 'P(n|u_best)':pmf_best, 'r':r, 'Rank':rank, 'F_r(n|u)':F_r }\n",
    "    df = pd.DataFrame(data)\n",
    "    return df    "
   ]
  },
  {
   "cell_type": "markdown",
   "metadata": {},
   "source": [
    "## FC Interval"
   ]
  },
  {
   "cell_type": "code",
   "execution_count": 3,
   "metadata": {},
   "outputs": [],
   "source": [
    "def FC(df,alpha):\n",
    "    srtd = df['F_r(n|u)'].reindex(np.argsort(df['Rank']))\n",
    "    upper = np.min(srtd[srtd>=alpha])\n",
    "    array = np.argwhere(srtd == upper)\n",
    "    sml = srtd[:array[0][0]+1]\n",
    "    return sml.index.to_numpy()"
   ]
  },
  {
   "cell_type": "markdown",
   "metadata": {},
   "source": [
    "## Bandplot"
   ]
  },
  {
   "cell_type": "code",
   "execution_count": 4,
   "metadata": {},
   "outputs": [
    {
     "name": "stderr",
     "output_type": "stream",
     "text": [
      "/Users/jlrestrepol/opt/miniconda3/envs/data-analysis/lib/python3.6/site-packages/numpy/core/fromnumeric.py:61: FutureWarning: Series.nonzero() is deprecated and will be removed in a future version.Use Series.to_numpy().nonzero() instead\n",
      "  return bound(*args, **kwds)\n"
     ]
    }
   ],
   "source": [
    "intervals_FC = []\n",
    "for uu in np.arange(3.2,15, 0.1):\n",
    "    df_FC = Poiss_table_FC(N=25, l=3.2, u=uu)\n",
    "    FC_int = FC(df_FC,0.68)\n",
    "    intervals_FC.append((np.min(FC_int),np.max(FC_int)))\n",
    "intervals_FC = np.array(intervals_FC)"
   ]
  },
  {
   "cell_type": "code",
   "execution_count": 6,
   "metadata": {},
   "outputs": [
    {
     "data": {
      "image/png": "[encoded data removed]",
      "text/plain": [
       "<Figure size 576x432 with 1 Axes>"
      ]
     },
     "metadata": {
      "needs_background": "light"
     },
     "output_type": "display_data"
    }
   ],
   "source": [
    "plt.figure(figsize=[8.0,6.0])\n",
    "plt.xticks(ticks = np.arange(len(df_FC)))\n",
    "plt.yticks(ticks = np.arange(len(intervals_FC)+1, step = 10), labels=np.arange(int(len(intervals_FC)/10+1)))\n",
    "plt.ylabel('\\u03BD')\n",
    "plt.xlabel('n')\n",
    "plt.grid()\n",
    "plt.title(r'Poisson 90% CL Bands for Feldam-Cousins Interval with $\\lambda$ = 3')\n",
    "\n",
    "plt.vlines(x = intervals_FC[:,0], ymin = np.arange(len(intervals_FC)), ymax = np.arange(1,len(intervals_FC)+1), \n",
    "           colors='red')\n",
    "plt.vlines(x = intervals_FC[:,1], ymin = np.arange(len(intervals_FC)), ymax = np.arange(1,len(intervals_FC)+1), \n",
    "           colors='blue')\n",
    "a=0\n",
    "for e in intervals_FC:\n",
    "    plt.fill_betweenx(y=np.array([a,a+1]), x1 = np.array([e[0],e[0]]), x2 = np.array(e[1],e[1]), color = 'gray')\n",
    "    a+=1"
   ]
  },
  {
   "cell_type": "markdown",
   "metadata": {},
   "source": [
    "# Smallest Interval"
   ]
  },
  {
   "cell_type": "markdown",
   "metadata": {},
   "source": [
    "## Create Table"
   ]
  },
  {
   "cell_type": "code",
   "execution_count": 7,
   "metadata": {},
   "outputs": [],
   "source": [
    "def Poiss_table(N,u):\n",
    "    pmf = np.array([round(poisson.pmf(n,u),4) for n in range(N)])\n",
    "    cdf = np.array([round(poisson.cdf(n,u),4) for n in range(N)])\n",
    "    i = np.argsort(pmf)[::-1]\n",
    "    r = np.array([np.where(i == x)[0][0]+1 for x in range(N)])\n",
    "    F_r = pmf[np.argsort(r)].cumsum()[r-1]\n",
    "    data = {'P(n|u)':pmf, 'F(n|u)':cdf, 'R':r, 'F_r(n|u)':F_r }\n",
    "    df = pd.DataFrame(data)\n",
    "    return df    "
   ]
  },
  {
   "cell_type": "markdown",
   "metadata": {},
   "source": [
    "## Smallest Interval"
   ]
  },
  {
   "cell_type": "code",
   "execution_count": 8,
   "metadata": {},
   "outputs": [],
   "source": [
    "def smallest(df,alpha):\n",
    "    srtd = df['F_r(n|u)'].reindex(np.argsort(df['R']))\n",
    "    upper = np.min(srtd[srtd>=alpha])\n",
    "    array = np.argwhere(srtd == upper)\n",
    "    sml = srtd[:array[0][0]+1]\n",
    "    return sml.index.to_numpy()"
   ]
  },
  {
   "cell_type": "code",
   "execution_count": 12,
   "metadata": {},
   "outputs": [],
   "source": [
    "intervals_sm = []\n",
    "for uu in np.arange(3.1,15, 0.1):\n",
    "    df = Poiss_table(N=24,u=uu)\n",
    "    sml = smallest(df,0.68)\n",
    "    intervals_sm.append((np.min(sml),np.max(sml)))\n",
    "intervals_sm = np.array(intervals_sm)"
   ]
  },
  {
   "cell_type": "markdown",
   "metadata": {},
   "source": [
    "## Bandplot"
   ]
  },
  {
   "cell_type": "code",
   "execution_count": 13,
   "metadata": {},
   "outputs": [
    {
     "data": {
      "image/png": "[encoded data removed]",
      "text/plain": [
       "<Figure size 576x432 with 1 Axes>"
      ]
     },
     "metadata": {
      "needs_background": "light"
     },
     "output_type": "display_data"
    }
   ],
   "source": [
    "plt.figure(figsize=[8.0,6.0])\n",
    "plt.xticks(ticks = np.arange(len(df)))\n",
    "plt.yticks(ticks = np.arange(len(intervals_sm)+1, step = 10), labels=np.arange(int(len(intervals_sm)/10+1)))\n",
    "plt.ylabel(r'$\\mu = \\lambda + \\nu$')\n",
    "plt.xlabel('n')\n",
    "plt.grid()\n",
    "plt.title(r'Poisson 90% CL Bands for Smallest Interval with $\\lambda$ = 3 ')\n",
    "\n",
    "plt.vlines(x = intervals_sm[:,0], ymin = np.arange(len(intervals_sm)), ymax = np.arange(1,len(intervals_sm)+1), \n",
    "           colors='red')\n",
    "plt.vlines(x = intervals_sm[:,1], ymin = np.arange(len(intervals_sm)), ymax = np.arange(1,len(intervals_sm)+1), \n",
    "           colors='blue')\n",
    "a=0\n",
    "for e in intervals_sm:\n",
    "    plt.fill_betweenx(y=np.array([a,a+1]), x1 = np.array([e[0],e[0]]), x2 = np.array(e[1],e[1]), color = 'gray')\n",
    "    a+=1"
   ]
  },
  {
   "cell_type": "markdown",
   "metadata": {},
   "source": [
    "# Credible Interval"
   ]
  },
  {
   "cell_type": "code",
   "execution_count": 14,
   "metadata": {},
   "outputs": [],
   "source": [
    "import numpy as np"
   ]
  },
  {
   "cell_type": "code",
   "execution_count": 15,
   "metadata": {},
   "outputs": [],
   "source": [
    "def Post(nu,n,l):\n",
    "    num = np.math.exp(-nu)*(l+nu)**n\n",
    "    den = np.math.factorial(n)*np.sum([l**i/np.math.factorial(i) for i in range(n+1)])\n",
    "    return num/den"
   ]
  },
  {
   "cell_type": "code",
   "execution_count": 16,
   "metadata": {},
   "outputs": [],
   "source": [
    "def F_post(nu,n,l):\n",
    "    num = np.math.exp(-nu)*np.sum([(l+nu)**i/np.math.factorial(i) for i in range(n+1)])\n",
    "    den = np.sum([l**i/np.math.factorial(i) for i in range(n+1)])\n",
    "    return 1-num/den"
   ]
  },
  {
   "cell_type": "code",
   "execution_count": 25,
   "metadata": {},
   "outputs": [],
   "source": [
    "def my_fun(z):\n",
    "    nu1 = z[0]\n",
    "    nu2 = z[1]\n",
    "\n",
    "    f = np.zeros(2)\n",
    "    f[0] = F_post(nu2,n=nn,l=3.2) - F_post(nu1,n=nn,l=3) - 0.68\n",
    "    f[1] = Post(nu2,n=nn,l=3.2) - Post(nu1,n=nn,l=3)\n",
    "    return np.dot(f,f)"
   ]
  },
  {
   "cell_type": "code",
   "execution_count": 26,
   "metadata": {},
   "outputs": [],
   "source": [
    "def my_cons(z):\n",
    "    nu1 = z[0]\n",
    "    nu2 = z[1]\n",
    "    f = np.zeros(2)\n",
    "    f[0] = nu1\n",
    "    f[1] = nu2\n",
    "    return f"
   ]
  },
  {
   "cell_type": "code",
   "execution_count": 27,
   "metadata": {},
   "outputs": [],
   "source": [
    "from scipy.optimize import minimize"
   ]
  },
  {
   "cell_type": "code",
   "execution_count": 28,
   "metadata": {},
   "outputs": [],
   "source": [
    "cons = {'type' : 'ineq', 'fun': my_cons}"
   ]
  },
  {
   "cell_type": "code",
   "execution_count": 76,
   "metadata": {},
   "outputs": [],
   "source": [
    "intervals = []\n",
    "for nn in range(10):\n",
    "    intervals.append(minimize(my_fun, (1, 0), method='SLSQP', constraints=cons, tol=1e-10).x)"
   ]
  },
  {
   "cell_type": "code",
   "execution_count": 77,
   "metadata": {},
   "outputs": [],
   "source": [
    "intervals = np.array(intervals)"
   ]
  },
  {
   "cell_type": "code",
   "execution_count": 82,
   "metadata": {},
   "outputs": [],
   "source": [
    "intervals[0] = [-9.90564341e-16, 4.61818463e-01]\n",
    "intervals[-1] = [ 3.19902534e+00,  9.16536705e+00]"
   ]
  },
  {
   "cell_type": "code",
   "execution_count": 83,
   "metadata": {},
   "outputs": [
    {
     "data": {
      "image/png": "[encoded data removed]",
      "text/plain": [
       "<Figure size 576x432 with 1 Axes>"
      ]
     },
     "metadata": {
      "needs_background": "light"
     },
     "output_type": "display_data"
    }
   ],
   "source": [
    "plt.figure(figsize=[8.0,6.0])\n",
    "plt.xticks(ticks = np.arange(11))\n",
    "plt.yticks(ticks = np.arange(len(intervals)), labels=np.arange(int(len(intervals))+4))\n",
    "plt.ylabel(r'$\\mu = \\lambda + \\nu$')\n",
    "plt.xlabel('n')\n",
    "plt.grid()\n",
    "plt.title(r'Poisson 68% Credible Interval with $\\lambda$ = 3.2 ')\n",
    "\n",
    "plt.hlines(y = intervals[:,0], xmin = np.arange(len(intervals)), xmax = np.arange(1,len(intervals)+1), colors='red')\n",
    "plt.hlines(y = intervals[:,1], xmin = np.arange(len(intervals)), xmax = np.arange(1,len(intervals)+1), colors='blue')\n",
    "a=0\n",
    "for e in intervals:\n",
    "    plt.fill_betweenx(y=np.array([e[0],e[1]]), x1 = np.array([a,a]), x2 = np.array([a+1,a+1]), color = 'gray')\n",
    "    a+=1"
   ]
  },
  {
   "cell_type": "markdown",
   "metadata": {},
   "source": [
    "# Integrated plot"
   ]
  },
  {
   "cell_type": "code",
   "execution_count": 90,
   "metadata": {},
   "outputs": [
    {
     "data": {
      "image/png": "[encoded data removed]",
      "text/plain": [
       "<Figure size 432x288 with 1 Axes>"
      ]
     },
     "metadata": {
      "needs_background": "light"
     },
     "output_type": "display_data"
    }
   ],
   "source": [
    "plt.xticks(ticks = np.arange(len(df_FC)*10+1, step = 1), labels=np.arange(int(len(df_FC)*10+1)))\n",
    "plt.yticks(ticks = np.arange(len(intervals_FC)+1, step = 10), labels=np.arange(int(len(intervals_FC)/10+1)))\n",
    "plt.xlim(None,10)\n",
    "plt.ylabel('\\u03BD')\n",
    "plt.xlabel('n')\n",
    "plt.grid()\n",
    "plt.title(r'Poisson 90% CL Bands for Feldam-Cousins Interval, Bayesian and Smallest Interval with $\\lambda$ = 3.2')\n",
    "\n",
    "plt.hlines(y = np.arange(len(intervals_FC)-1), xmin = intervals_FC[:,0], xmax = intervals_FC[1:,0], \n",
    "           colors='blue')\n",
    "plt.hlines(y = np.arange(len(intervals_FC)-1), xmin = intervals_FC[:,1], xmax = intervals_FC[1:,1], \n",
    "           colors='blue')\n",
    "\n",
    "plt.plot(np.arange(len(intervals))+0.5,intervals[:,0]*10,'go')\n",
    "plt.plot(np.arange(len(intervals))+0.5,intervals[:,1]*10,'go')\n",
    "plt.plot(np.arange(0,5),np.zeros(5),'b-')\n",
    "\n",
    "\n",
    "a=0\n",
    "for e in intervals_sm:\n",
    "    plt.fill_betweenx(y=np.array([a,a+1]), x1 = np.array([e[0],e[0]]), x2 = np.array(e[1],e[1]), color = 'gray')\n",
    "    a+=1\n"
   ]
  },
  {
   "cell_type": "markdown",
   "metadata": {},
   "source": [
    "## Table"
   ]
  },
  {
   "cell_type": "code",
   "execution_count": 23,
   "metadata": {},
   "outputs": [],
   "source": [
    "intervals_tuple = [i for i in map(tuple, np.round(intervals, decimals = 3))]\n",
    "intervals_FC_tuple = np.unique([i for i in map(tuple, np.round(intervals_FC, decimals = 3))], axis = 0).tolist()\n",
    "intervals_sm_tuple = np.unique([i for i in map(tuple, np.round(intervals_sm, decimals = 3))], axis = 0).tolist()"
   ]
  },
  {
   "cell_type": "code",
   "execution_count": 24,
   "metadata": {},
   "outputs": [],
   "source": [
    "intervals_dict = {'Bayesian':intervals_tuple,\n",
    "                  'Feldman-Cousins':intervals_FC_tuple,\n",
    "                  'Smallest':intervals_sm_tuple}"
   ]
  },
  {
   "cell_type": "code",
   "execution_count": 25,
   "metadata": {},
   "outputs": [],
   "source": [
    "df_intervals = pd.DataFrame(data = {'Bayesian':intervals_tuple,\n",
    "                  'Feldman-Cousins':intervals_FC_tuple[:len(intervals_tuple)],\n",
    "                    'Smallest':intervals_sm_tuple[:len(intervals_tuple)]})"
   ]
  },
  {
   "cell_type": "code",
   "execution_count": 90,
   "metadata": {},
   "outputs": [
    {
     "data": {
      "text/plain": [
       "'\\\\begin{tabular}{llll}\\n\\\\toprule\\n{} &        Bayesian & Feldman-Cousins & Smallest \\\\\\\\\\n\\\\midrule\\n0 &      (0.0, 0.4) &          [0, 4] &   [1, 4] \\\\\\\\\\n1 &    (0.0, 0.772) &          [1, 4] &   [2, 5] \\\\\\\\\\n2 &    (0.0, 1.354) &          [2, 5] &   [2, 6] \\\\\\\\\\n3 &    (0.0, 2.144) &          [2, 6] &   [3, 7] \\\\\\\\\\n4 &   (-0.0, 3.085) &          [3, 7] &   [4, 8] \\\\\\\\\\n5 &  (0.251, 4.286) &          [4, 8] &   [4, 9] \\\\\\\\\\n6 &  (0.942, 5.674) &          [4, 9] &  [5, 10] \\\\\\\\\\n7 &  (1.697, 6.954) &         [5, 10] &  [6, 11] \\\\\\\\\\n8 &  (2.496, 8.169) &         [6, 11] &  [6, 12] \\\\\\\\\\n9 &   (3.319, 9.35) &         [6, 12] &  [7, 13] \\\\\\\\\\n\\\\bottomrule\\n\\\\end{tabular}\\n'"
      ]
     },
     "execution_count": 90,
     "metadata": {},
     "output_type": "execute_result"
    }
   ],
   "source": [
    "df_intervals.to_latex()"
   ]
  },
  {
   "cell_type": "code",
   "execution_count": null,
   "metadata": {},
   "outputs": [],
   "source": []
  },
  {
   "cell_type": "markdown",
   "metadata": {},
   "source": [
    "## Reproduction of Figure 3.7"
   ]
  },
  {
   "cell_type": "code",
   "execution_count": 21,
   "metadata": {},
   "outputs": [],
   "source": [
    "intervals_FC = np.array([[ 0,  5],[ 0,  6],[ 0,  6],[ 0,  6],[ 0,  6],[ 0,  6],[ 0,  6],[ 0,  6],[ 0,  7],[ 1,  7],[ 1,  7],[ 1,  7],[ 1,  7],[ 1,  7],[ 1,  7],[ 1,  8],[ 1,  8],[ 1,  8],[ 2,  9],[ 2,  9],[ 2,  9],[ 2,  9],[ 2,  9],[ 2,  9],[ 2,  9],[ 2,  9],[ 2, 10],[ 2, 10],[ 2, 10],[ 2, 10],[ 3, 11],[ 3, 11],[ 3, 11],[ 3, 11],[ 3, 11],[ 3, 11],[ 3, 11],[ 3, 11],[ 3, 11],[ 3, 11],[ 3, 12],[ 3, 12],[ 3, 12],[ 3, 12],[ 4, 13],[ 4, 13],[ 4, 13],[ 4, 13],[ 4, 13],[ 4, 13],[ 4, 13],[ 4, 13],[ 4, 13],[ 4, 13],[ 4, 13],[ 5, 14],[ 5, 14],[ 5, 14],[ 5, 14],[ 5, 14],[ 5, 14],[ 5, 14],[ 5, 14],[ 5, 14],[ 5, 15],[ 5, 15],[ 5, 15],[ 5, 15],[ 5, 15],[ 6, 16],[ 6, 16],[ 6, 16],[ 6, 16],[ 6, 16],[ 6, 16],[ 6, 16],[ 6, 16],[ 6, 16],[ 6, 16],[ 6, 16],[ 6, 17],[ 6, 17],[ 6, 17],[ 6, 17],[ 7, 18],[ 7, 18],[ 7, 18],[ 7, 18],[ 7, 18],[ 7, 18],[ 7, 18],[ 7, 18],[ 7, 18],[ 7, 18],[ 7, 18],[ 8, 19],[ 8, 19],[ 8, 19],[ 8, 19],[ 8, 19],[ 8, 19],[ 8, 19],[ 8, 19],[ 8, 19],[ 8, 19],[ 8, 20],[ 8, 20],[ 8, 20],[ 8, 20],[ 9, 21],[ 9, 21],[ 9, 21],[ 9, 21],[ 9, 21],[ 9, 21],[ 9, 21],[ 9, 21],[ 9, 21],[ 9, 21]])\n",
    "\n",
    "intervals = np.array([[ 1.28756334e-15,  2.40034487e+00],[-1.03731375e-15,  2.85796535e+00],[-1.68291359e-17,  3.69734183e+00],[ 1.45294930e-17,  4.23560981e+00],[ 2.93483280e-17,  5.34981235e+00],[ 5.65690496e-18,  6.08461582e+00],[ 5.00000000e-01,  8.08956577e+00],[ 1.05046792e+00,  9.67878004e+00],[ 1.70138538e+00,  1.10966543e+01]])\n",
    "\n",
    "intervals_sm = np.array([[ 1,  6],[ 1,  6],[ 1,  6],[ 1,  6],[ 1,  6],[ 1,  7],[ 1,  7],[ 1,  7],[ 1,  7],[ 1,  7],[ 1,  7],[ 1,  7],[ 1,  7],[ 1,  7],[ 1,  7],[ 1,  8],[ 1,  8],[ 1,  8],[ 1,  8],[ 2,  9],[ 2,  9],[ 2,  9],[ 2,  9],[ 2,  9],[ 2,  9],[ 2,  9],[ 2,  9],[ 2,  9],[ 2,  9],[ 2, 10],[ 2, 10],[ 2, 10],[ 2, 10],[ 2, 10],[ 3, 11],[ 3, 11],[ 3, 11],[ 3, 11],[ 3, 11],[ 3, 11],[ 3, 11],[ 3, 11],[ 3, 11],[ 3, 11],[ 3, 11],[ 3, 12],[ 3, 12],[ 3, 12],[ 3, 12],[ 4, 13],[ 4, 13],[ 4, 13],[ 4, 13],[ 4, 13],[ 4, 13],[ 4, 13],[ 4, 13],[ 4, 13],[ 4, 13],[ 4, 13],[ 5, 14],[ 5, 14],[ 5, 14],[ 5, 14],[ 5, 15],[ 5, 15],[ 5, 15],[ 5, 15],[ 5, 15],[ 5, 15],[ 5, 15],[ 5, 15],[ 5, 15],[ 5, 15],[ 5, 15],[ 6, 16],[ 6, 16],[ 6, 16],[ 6, 16],[ 6, 16],[ 6, 16],[ 6, 16],[ 6, 16],[ 6, 17],[ 6, 17],[ 6, 17],[ 6, 17],[ 6, 17],[ 6, 17],[ 7, 18],[ 7, 18],[ 7, 18],[ 7, 18],[ 7, 18],[ 7, 18],[ 7, 18],[ 7, 18],[ 7, 18],[ 7, 18],[ 7, 18],[ 8, 19],[ 8, 19],[ 8, 19],[ 8, 19],[ 8, 19],[ 8, 20],[ 8, 20],[ 8, 20],[ 8, 20],[ 8, 20],[ 8, 20],[ 8, 20],[ 8, 20],[ 8, 20],[ 8, 20],[ 9, 21],[ 9, 21],[ 9, 21],[ 9, 21]])"
   ]
  },
  {
   "cell_type": "code",
   "execution_count": 29,
   "metadata": {},
   "outputs": [
    {
     "data": {
      "text/plain": [
       "\"\\na=0\\nfor e in intervals_sm:\\n    plt.fill_betweenx(y=np.array([a,a+1]), x1 = np.array([e[0],e[0]]), x2 = np.array(e[1],e[1]), color = 'gray')\\n    a+=1\\n    \""
      ]
     },
     "execution_count": 29,
     "metadata": {},
     "output_type": "execute_result"
    },
    {
     "data": {
      "image/png": "[encoded data removed]",
      "text/plain": [
       "<Figure size 576x432 with 1 Axes>"
      ]
     },
     "metadata": {
      "needs_background": "light"
     },
     "output_type": "display_data"
    }
   ],
   "source": [
    "plt.figure(figsize=[8.0,6.0])\n",
    "plt.xticks(ticks = np.arange(len(df_FC)*10+1, step = 1), labels=np.arange(int(len(df_FC)*10+1)))\n",
    "plt.yticks(ticks = np.arange(len(intervals_FC)+1, step = 10), labels=np.arange(int(len(intervals_FC)/10+1)))\n",
    "plt.xlim(None,10)\n",
    "plt.ylabel('\\u03BD')\n",
    "plt.xlabel('n')\n",
    "plt.grid()\n",
    "plt.title(r'Poisson 90% CL Bands for Feldam-Cousins Interval, Bayesian and Smallest Interval with $\\lambda$ = 3.0')\n",
    "\n",
    "plt.hlines(y = np.arange(len(intervals_FC)-1), xmin = intervals_FC[:,0], xmax = intervals_FC[1:,0], \n",
    "           colors='green')\n",
    "plt.hlines(y = np.arange(len(intervals_FC)-1), xmin = intervals_FC[:,1], xmax = intervals_FC[1:,1], \n",
    "           colors='green')\n",
    "\n",
    "plt.plot(np.arange(len(intervals))+0.5,intervals[:,0]*10,'ro')\n",
    "plt.plot(np.arange(len(intervals))+0.5,intervals[:,1]*10,'bo')\n",
    "plt.plot(np.arange(0,6),np.zeros(6),'g-')\n",
    "\n",
    "\"\"\"\n",
    "a=0\n",
    "for e in intervals_sm:\n",
    "    plt.fill_betweenx(y=np.array([a,a+1]), x1 = np.array([e[0],e[0]]), x2 = np.array(e[1],e[1]), color = 'gray')\n",
    "    a+=1\n",
    "    \"\"\""
   ]
  }
 ],
 "metadata": {
  "kernelspec": {
   "display_name": "Python (data-analysis)",
   "language": "python",
   "name": "data-analysis"
  },
  "language_info": {
   "codemirror_mode": {
    "name": "ipython",
    "version": 3
   },
   "file_extension": ".py",
   "mimetype": "text/x-python",
   "name": "python",
   "nbconvert_exporter": "python",
   "pygments_lexer": "ipython3",
   "version": "3.6.10"
  },
  "toc": {
   "base_numbering": 1,
   "nav_menu": {},
   "number_sections": true,
   "sideBar": true,
   "skip_h1_title": false,
   "title_cell": "Table of Contents",
   "title_sidebar": "Contents",
   "toc_cell": false,
   "toc_position": {},
   "toc_section_display": true,
   "toc_window_display": false
  }
 },
 "nbformat": 4,
 "nbformat_minor": 2
}
