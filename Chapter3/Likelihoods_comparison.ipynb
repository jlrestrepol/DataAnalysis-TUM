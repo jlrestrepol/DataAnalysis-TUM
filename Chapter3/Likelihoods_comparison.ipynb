{
 "cells": [
  {
   "cell_type": "code",
   "execution_count": 1,
   "metadata": {},
   "outputs": [],
   "source": [
    "import numpy as np\n",
    "import pandas as pd\n",
    "import matplotlib.pyplot as plt"
   ]
  },
  {
   "cell_type": "markdown",
   "metadata": {},
   "source": [
    "# Data set"
   ]
  },
  {
   "cell_type": "code",
   "execution_count": 2,
   "metadata": {},
   "outputs": [],
   "source": [
    "data = pd.DataFrame({'x1':[0.5,0.2], 'x2':[0.5,0.5], 'x3':[0.5,0.75],'x4':[0.5,0.9]}) "
   ]
  },
  {
   "cell_type": "markdown",
   "metadata": {},
   "source": [
    "# Model"
   ]
  },
  {
   "cell_type": "code",
   "execution_count": 3,
   "metadata": {},
   "outputs": [],
   "source": [
    "# Defines a function which takes a data vector of values x_i and returns a vector of values 10*x_i\n",
    "f = np.vectorize(lambda x: 10*x)"
   ]
  },
  {
   "cell_type": "markdown",
   "metadata": {},
   "source": [
    "# Quantities to compar"
   ]
  },
  {
   "cell_type": "markdown",
   "metadata": {},
   "source": [
    "## Unbinned Likelihood"
   ]
  },
  {
   "cell_type": "code",
   "execution_count": 4,
   "metadata": {},
   "outputs": [],
   "source": [
    "def L_u(f,x):\n",
    "    '''\n",
    "    Calculates the unbinned Likelihood for a data vector x.\n",
    "        f: vectorized function\n",
    "        x: data vector\n",
    "    \n",
    "    Returns:\n",
    "    -----\n",
    "        Unbinned Likelihood = \\prod f(x_i), i: from 1 to n\n",
    "    '''\n",
    "    return np.prod(f(x))"
   ]
  },
  {
   "cell_type": "markdown",
   "metadata": {},
   "source": [
    "## Extended Likelihood"
   ]
  },
  {
   "cell_type": "code",
   "execution_count": 5,
   "metadata": {},
   "outputs": [],
   "source": [
    "def L_e(f,x):\n",
    "    '''\n",
    "    Calculates the extended Likelihood for a data vector x.\n",
    "        f: vectoreized function\n",
    "        x: data vector\n",
    "        l: normalization of the model\n",
    "        n: number of events\n",
    "    '''\n",
    "    l = 5\n",
    "    n = 4\n",
    "    f1 = l**n*np.exp(-l)/np.math.factorial(n)\n",
    "    f2 = np.prod(f(x)/l)\n",
    "    return f1*f2"
   ]
  },
  {
   "cell_type": "markdown",
   "metadata": {},
   "source": [
    "## Binned Poisson"
   ]
  },
  {
   "cell_type": "code",
   "execution_count": 6,
   "metadata": {},
   "outputs": [],
   "source": [
    "def nu_i(k):\n",
    "    '''\n",
    "    Returns the result of calculating the integral of f in each one of the k regularly-spaced subintervals of [0,1].\n",
    "    This is taken as the expectation value in each bin. \n",
    "        k: number of intervals\n",
    "    '''\n",
    "    F_list = np.linspace(0,1,k+1)**2*5 # F(x) = int f(x) = 5*x^2\n",
    "    nu_list = [F_list[i + 1] - F_list[i] for i in range(len(F_list)-1)] \n",
    "    \n",
    "    return np.array(nu_list)    "
   ]
  },
  {
   "cell_type": "code",
   "execution_count": 7,
   "metadata": {},
   "outputs": [],
   "source": [
    "def n_i(x_data,k):\n",
    "    '''\n",
    "    Retruns the number of events in each bin for a given binning parameter k.\n",
    "        x: data vector\n",
    "        k: number of intervals\n",
    "    '''\n",
    "    intervals = np.linspace(0,1,k+1)\n",
    "    \n",
    "    return np.array([len([x for x in x_data if intervals[i] <= x <intervals[i+1]]) for i in range(len(intervals)-1)])    "
   ]
  },
  {
   "cell_type": "code",
   "execution_count": 8,
   "metadata": {},
   "outputs": [],
   "source": [
    "def poisson_binned(x_data,k):\n",
    "    return np.prod(np.exp(-nu_i(k))*nu_i(k)**n_i(x_data,k)/(np.vectorize(np.math.factorial)(n_i(x_data,k))))"
   ]
  },
  {
   "cell_type": "markdown",
   "metadata": {},
   "source": [
    "# Comparison between sets and measures"
   ]
  },
  {
   "cell_type": "markdown",
   "metadata": {},
   "source": [
    "## Set 0"
   ]
  },
  {
   "cell_type": "code",
   "execution_count": 9,
   "metadata": {},
   "outputs": [],
   "source": [
    "x0 = data.loc[0]"
   ]
  },
  {
   "cell_type": "code",
   "execution_count": 10,
   "metadata": {},
   "outputs": [
    {
     "data": {
      "text/plain": [
       "625.0"
      ]
     },
     "execution_count": 10,
     "metadata": {},
     "output_type": "execute_result"
    }
   ],
   "source": [
    "L_u(f,x0)"
   ]
  },
  {
   "cell_type": "code",
   "execution_count": 11,
   "metadata": {},
   "outputs": [
    {
     "data": {
      "text/plain": [
       "0.1754673697678507"
      ]
     },
     "execution_count": 11,
     "metadata": {},
     "output_type": "execute_result"
    }
   ],
   "source": [
    "L_e(f,x0)"
   ]
  },
  {
   "cell_type": "code",
   "execution_count": 12,
   "metadata": {},
   "outputs": [
    {
     "data": {
      "text/plain": [
       "2.569017760771112e-05"
      ]
     },
     "execution_count": 12,
     "metadata": {},
     "output_type": "execute_result"
    }
   ],
   "source": [
    "poisson_binned(x0,10)"
   ]
  },
  {
   "cell_type": "markdown",
   "metadata": {},
   "source": [
    "## Set 1"
   ]
  },
  {
   "cell_type": "code",
   "execution_count": 13,
   "metadata": {},
   "outputs": [],
   "source": [
    "x1 = data.loc[1]"
   ]
  },
  {
   "cell_type": "code",
   "execution_count": 14,
   "metadata": {},
   "outputs": [
    {
     "data": {
      "text/plain": [
       "675.0"
      ]
     },
     "execution_count": 14,
     "metadata": {},
     "output_type": "execute_result"
    }
   ],
   "source": [
    "L_u(f,x1)"
   ]
  },
  {
   "cell_type": "code",
   "execution_count": 15,
   "metadata": {},
   "outputs": [
    {
     "data": {
      "text/plain": [
       "0.18950475934927882"
      ]
     },
     "execution_count": 15,
     "metadata": {},
     "output_type": "execute_result"
    }
   ],
   "source": [
    "L_e(f,x1)"
   ]
  },
  {
   "cell_type": "code",
   "execution_count": 16,
   "metadata": {},
   "outputs": [
    {
     "data": {
      "text/plain": [
       "0.0006601082450666545"
      ]
     },
     "execution_count": 16,
     "metadata": {},
     "output_type": "execute_result"
    }
   ],
   "source": [
    "poisson_binned(x1,10)"
   ]
  },
  {
   "cell_type": "markdown",
   "metadata": {},
   "source": [
    "## Add results to table"
   ]
  },
  {
   "cell_type": "code",
   "execution_count": 17,
   "metadata": {},
   "outputs": [],
   "source": [
    "data['L_unbin'] = [L_u(f,x0), L_u(f,x1)]"
   ]
  },
  {
   "cell_type": "code",
   "execution_count": 18,
   "metadata": {},
   "outputs": [],
   "source": [
    "data['L_ext'] = [L_e(f,x0),L_e(f,x1)]"
   ]
  },
  {
   "cell_type": "code",
   "execution_count": 21,
   "metadata": {},
   "outputs": [],
   "source": [
    "data['Poiss_binn (10 bins)'] = [poisson_binned(x0,10),poisson_binned(x1,10)]"
   ]
  },
  {
   "cell_type": "code",
   "execution_count": 22,
   "metadata": {},
   "outputs": [
    {
     "data": {
      "text/html": [
       "<div>\n",
       "<style scoped>\n",
       "    .dataframe tbody tr th:only-of-type {\n",
       "        vertical-align: middle;\n",
       "    }\n",
       "\n",
       "    .dataframe tbody tr th {\n",
       "        vertical-align: top;\n",
       "    }\n",
       "\n",
       "    .dataframe thead th {\n",
       "        text-align: right;\n",
       "    }\n",
       "</style>\n",
       "<table border=\"1\" class=\"dataframe\">\n",
       "  <thead>\n",
       "    <tr style=\"text-align: right;\">\n",
       "      <th></th>\n",
       "      <th>x1</th>\n",
       "      <th>x2</th>\n",
       "      <th>x3</th>\n",
       "      <th>x4</th>\n",
       "      <th>L_unbin</th>\n",
       "      <th>L_ext</th>\n",
       "      <th>Poiss_binn</th>\n",
       "      <th>Poiss_binn (10 bins)</th>\n",
       "    </tr>\n",
       "  </thead>\n",
       "  <tbody>\n",
       "    <tr>\n",
       "      <th>0</th>\n",
       "      <td>0.5</td>\n",
       "      <td>0.5</td>\n",
       "      <td>0.50</td>\n",
       "      <td>0.5</td>\n",
       "      <td>625.0</td>\n",
       "      <td>0.175467</td>\n",
       "      <td>0.000026</td>\n",
       "      <td>0.000026</td>\n",
       "    </tr>\n",
       "    <tr>\n",
       "      <th>1</th>\n",
       "      <td>0.2</td>\n",
       "      <td>0.5</td>\n",
       "      <td>0.75</td>\n",
       "      <td>0.9</td>\n",
       "      <td>675.0</td>\n",
       "      <td>0.189505</td>\n",
       "      <td>0.000660</td>\n",
       "      <td>0.000660</td>\n",
       "    </tr>\n",
       "  </tbody>\n",
       "</table>\n",
       "</div>"
      ],
      "text/plain": [
       "    x1   x2    x3   x4  L_unbin     L_ext  Poiss_binn  Poiss_binn (10 bins)\n",
       "0  0.5  0.5  0.50  0.5    625.0  0.175467    0.000026              0.000026\n",
       "1  0.2  0.5  0.75  0.9    675.0  0.189505    0.000660              0.000660"
      ]
     },
     "execution_count": 22,
     "metadata": {},
     "output_type": "execute_result"
    }
   ],
   "source": [
    "data"
   ]
  },
  {
   "cell_type": "code",
   "execution_count": 27,
   "metadata": {},
   "outputs": [
    {
     "name": "stdout",
     "output_type": "stream",
     "text": [
      "\\begin{tabular}{lrrrrrrr}\n",
      "\\toprule\n",
      "{} &   x1 &   x2 &    x3 &   x4 &  L\\_unbin &     L\\_ext &  Poiss\\_binn (10 bins) \\\\\n",
      "\\midrule\n",
      "0 &  0.5 &  0.5 &  0.50 &  0.5 &    625.0 &  0.175467 &              0.000026 \\\\\n",
      "1 &  0.2 &  0.5 &  0.75 &  0.9 &    675.0 &  0.189505 &              0.000660 \\\\\n",
      "\\bottomrule\n",
      "\\end{tabular}\n",
      "\n"
     ]
    }
   ],
   "source": [
    "print(data.to_latex())"
   ]
  },
  {
   "cell_type": "code",
   "execution_count": null,
   "metadata": {},
   "outputs": [],
   "source": []
  }
 ],
 "metadata": {
  "kernelspec": {
   "display_name": "Python (cellrank)",
   "language": "python",
   "name": "cellrank"
  },
  "language_info": {
   "codemirror_mode": {
    "name": "ipython",
    "version": 3
   },
   "file_extension": ".py",
   "mimetype": "text/x-python",
   "name": "python",
   "nbconvert_exporter": "python",
   "pygments_lexer": "ipython3",
   "version": "3.6.9"
  }
 },
 "nbformat": 4,
 "nbformat_minor": 2
}
