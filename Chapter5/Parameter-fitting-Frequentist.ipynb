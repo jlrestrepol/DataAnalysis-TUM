{
 "cells": [
  {
   "cell_type": "markdown",
   "metadata": {},
   "source": [
    "Exercise 2 Chapter 5\n",
    "-----------\n",
    "\n",
    "# Example 5.1.3\n",
    "\n",
    "Before solving the exercise I'll reproduce the figure 5.2. At least the 68% confidence zone."
   ]
  },
  {
   "cell_type": "markdown",
   "metadata": {},
   "source": [
    "## Import Libraries"
   ]
  },
  {
   "cell_type": "code",
   "execution_count": 1,
   "metadata": {},
   "outputs": [],
   "source": [
    "import numpy as np\n",
    "import pandas as pd"
   ]
  },
  {
   "cell_type": "code",
   "execution_count": 2,
   "metadata": {},
   "outputs": [],
   "source": [
    "import matplotlib.pyplot as plt"
   ]
  },
  {
   "cell_type": "code",
   "execution_count": 3,
   "metadata": {},
   "outputs": [],
   "source": [
    "from scipy.stats import binom"
   ]
  },
  {
   "cell_type": "markdown",
   "metadata": {},
   "source": [
    "## Energy function"
   ]
  },
  {
   "cell_type": "code",
   "execution_count": 4,
   "metadata": {},
   "outputs": [],
   "source": [
    "e = np.vectorize(lambda A, E, E0 : 1/(1+np.exp(-A*(E-E0))))"
   ]
  },
  {
   "cell_type": "markdown",
   "metadata": {},
   "source": [
    "## Likelihood"
   ]
  },
  {
   "cell_type": "code",
   "execution_count": 5,
   "metadata": {},
   "outputs": [],
   "source": [
    "def L(A,E0):\n",
    "    return ((np.array(Successes)*np.log(e(A,Energy,E0))+(np.array(Trails)-np.array(Successes))*np.log(1-e(A,Energy,E0))).sum(), (A,E0))    "
   ]
  },
  {
   "cell_type": "code",
   "execution_count": 6,
   "metadata": {},
   "outputs": [],
   "source": [
    "def MLE(A,E0):\n",
    "    a = np.array([[L(Ai,Ei)[0] for Ai in A] for Ei in E0])\n",
    "    ia, ie = np.unravel_index(np.argmax(a), a.shape)\n",
    "    return (A[ia],E0[ie])"
   ]
  },
  {
   "cell_type": "markdown",
   "metadata": {},
   "source": [
    "## Data set - Figure 5.2\n",
    "This is Table 5.1"
   ]
  },
  {
   "cell_type": "code",
   "execution_count": 11,
   "metadata": {},
   "outputs": [],
   "source": [
    "Energy = [0.5, 1.0, 1.5, 2.0, 2.5, 3.0, 3.5, 4.0]\n",
    "Trails = [100, 100, 100, 100, 100, 1000, 1000, 1000]\n",
    "Successes = [0, 4, 20, 58, 92, 987, 995, 998]\n",
    "df = pd.DataFrame({'Energy':Energy, 'Trails':Trails, 'Successes':Successes})"
   ]
  },
  {
   "cell_type": "markdown",
   "metadata": {},
   "source": [
    "## Grid"
   ]
  },
  {
   "cell_type": "code",
   "execution_count": 12,
   "metadata": {},
   "outputs": [],
   "source": [
    "E0 = np.linspace(1.6,2,50)\n",
    "A = np.linspace(3,4,60)\n",
    "\n",
    "EE0, AA = np.meshgrid(E0,A)"
   ]
  },
  {
   "cell_type": "markdown",
   "metadata": {},
   "source": [
    "## Ensemble generation"
   ]
  },
  {
   "cell_type": "code",
   "execution_count": 13,
   "metadata": {},
   "outputs": [],
   "source": [
    "accepted_values = []\n",
    "for Ei in E0:\n",
    "    for Ai in A:\n",
    "        p = e(Ai,Energy,Ei)\n",
    "        r = [np.random.binomial(t,pi,100) for t, pi in zip(Trails,p)]\n",
    "        T = np.prod([binom.pmf(ri,t,pi) for ri, t, pi in zip(r, Trails, p)], axis=0)\n",
    "        T_sorted = np.sort(T)[::-1]\n",
    "        index_68 = np.around(T.shape[0]*0.68)\n",
    "        T_data = np.prod([binom.pmf(ri,t,pi) for ri, t, pi in zip(Successes, Trails, p)], axis=0)\n",
    "        if T_data >= T_sorted[int(index_68-1)]:\n",
    "            accepted_values.append([Ai,Ei])\n",
    "accepted_values = np.array(accepted_values)"
   ]
  },
  {
   "cell_type": "markdown",
   "metadata": {},
   "source": [
    "## MLE"
   ]
  },
  {
   "cell_type": "code",
   "execution_count": 14,
   "metadata": {},
   "outputs": [
    {
     "name": "stdout",
     "output_type": "stream",
     "text": [
      "The Maximum Likelihood estimate is A=3.59, E0=1.89\n"
     ]
    }
   ],
   "source": [
    "A_MLE, E0_MLE = MLE(A,E0)\n",
    "print(f'The Maximum Likelihood estimate is A={np.round(A_MLE,2)}, E0={np.round(E0_MLE,2)}')"
   ]
  },
  {
   "cell_type": "markdown",
   "metadata": {},
   "source": [
    "## Gridding plot"
   ]
  },
  {
   "cell_type": "code",
   "execution_count": 15,
   "metadata": {},
   "outputs": [
    {
     "data": {
      "text/plain": [
       "Text(0.5, 1.0, 'A, $E_0$ parameter grid')"
      ]
     },
     "execution_count": 15,
     "metadata": {},
     "output_type": "execute_result"
    },
    {
     "data": {
      "image/png": "[encoded data removed]",
      "text/plain": [
       "<Figure size 432x288 with 1 Axes>"
      ]
     },
     "metadata": {
      "needs_background": "light"
     },
     "output_type": "display_data"
    }
   ],
   "source": [
    "plt.scatter(AA,EE0, s = 1)\n",
    "plt.scatter(accepted_values[:,0],accepted_values[:,1])\n",
    "plt.xlabel('A')\n",
    "plt.ylabel('$E_0$')\n",
    "plt.title('A, $E_0$ parameter grid')"
   ]
  },
  {
   "cell_type": "markdown",
   "metadata": {},
   "source": [
    "# Exercise 5.2"
   ]
  },
  {
   "cell_type": "code",
   "execution_count": 7,
   "metadata": {},
   "outputs": [],
   "source": [
    "Energy = [0.5, 1.0, 1.5, 2.0, 2.5, 3.0, 3.5, 4.0]\n",
    "Trails = [100, 100, 100, 100, 100, 100, 100, 100]\n",
    "Successes = [0, 4, 22, 55, 80, 97, 99, 99]\n",
    "df = pd.DataFrame({'Energy':Energy, 'Trails':Trails, 'Successes':Successes})"
   ]
  },
  {
   "cell_type": "markdown",
   "metadata": {},
   "source": [
    "## Grid"
   ]
  },
  {
   "cell_type": "code",
   "execution_count": 8,
   "metadata": {},
   "outputs": [],
   "source": [
    "A = np.linspace(2.0,4.0,50)\n",
    "E0 = np.linspace(1.0,3.0,50)\n",
    "\n",
    "EE0, AA = np.meshgrid(E0,A)"
   ]
  },
  {
   "cell_type": "markdown",
   "metadata": {},
   "source": [
    "## MLE"
   ]
  },
  {
   "cell_type": "code",
   "execution_count": 9,
   "metadata": {},
   "outputs": [
    {
     "name": "stdout",
     "output_type": "stream",
     "text": [
      "The Maximum Likelihood estimate is A=2.98, E0=2.02\n"
     ]
    }
   ],
   "source": [
    "A_MLE, E0_MLE = MLE(A,E0)\n",
    "print(f'The Maximum Likelihood estimate is A={np.round(A_MLE,2)}, E0={np.round(E0_MLE,2)}')"
   ]
  },
  {
   "cell_type": "markdown",
   "metadata": {},
   "source": [
    "## Ensemble Generation"
   ]
  },
  {
   "cell_type": "code",
   "execution_count": 10,
   "metadata": {
    "collapsed": true
   },
   "outputs": [
    {
     "name": "stdout",
     "output_type": "stream",
     "text": [
      "[2.6530612244897958, 1.8979591836734693]\n",
      "[2.693877551020408, 1.8979591836734693]\n",
      "[2.7346938775510203, 1.8979591836734693]\n",
      "[2.7755102040816326, 1.8979591836734693]\n",
      "[2.816326530612245, 1.8979591836734693]\n",
      "[2.857142857142857, 1.8979591836734693]\n",
      "[2.8979591836734695, 1.8979591836734693]\n",
      "[2.9387755102040813, 1.8979591836734693]\n",
      "[2.979591836734694, 1.8979591836734693]\n",
      "[2.5306122448979593, 1.9387755102040816]\n",
      "[2.571428571428571, 1.9387755102040816]\n",
      "[2.6122448979591835, 1.9387755102040816]\n",
      "[2.6530612244897958, 1.9387755102040816]\n",
      "[2.693877551020408, 1.9387755102040816]\n",
      "[2.7346938775510203, 1.9387755102040816]\n",
      "[2.7755102040816326, 1.9387755102040816]\n",
      "[2.816326530612245, 1.9387755102040816]\n",
      "[2.857142857142857, 1.9387755102040816]\n",
      "[2.8979591836734695, 1.9387755102040816]\n",
      "[2.9387755102040813, 1.9387755102040816]\n",
      "[2.979591836734694, 1.9387755102040816]\n",
      "[3.020408163265306, 1.9387755102040816]\n",
      "[3.061224489795918, 1.9387755102040816]\n",
      "[3.1020408163265305, 1.9387755102040816]\n",
      "[3.142857142857143, 1.9387755102040816]\n",
      "[3.183673469387755, 1.9387755102040816]\n",
      "[3.224489795918367, 1.9387755102040816]\n",
      "[2.489795918367347, 1.9795918367346939]\n",
      "[2.5306122448979593, 1.9795918367346939]\n",
      "[2.571428571428571, 1.9795918367346939]\n",
      "[2.6122448979591835, 1.9795918367346939]\n",
      "[2.6530612244897958, 1.9795918367346939]\n",
      "[2.693877551020408, 1.9795918367346939]\n",
      "[2.7346938775510203, 1.9795918367346939]\n",
      "[2.7755102040816326, 1.9795918367346939]\n",
      "[2.816326530612245, 1.9795918367346939]\n",
      "[2.857142857142857, 1.9795918367346939]\n",
      "[2.8979591836734695, 1.9795918367346939]\n",
      "[2.9387755102040813, 1.9795918367346939]\n",
      "[2.979591836734694, 1.9795918367346939]\n",
      "[3.020408163265306, 1.9795918367346939]\n",
      "[3.061224489795918, 1.9795918367346939]\n",
      "[3.1020408163265305, 1.9795918367346939]\n",
      "[3.142857142857143, 1.9795918367346939]\n",
      "[3.183673469387755, 1.9795918367346939]\n",
      "[2.571428571428571, 2.020408163265306]\n",
      "[2.6122448979591835, 2.020408163265306]\n",
      "[2.6530612244897958, 2.020408163265306]\n",
      "[2.693877551020408, 2.020408163265306]\n",
      "[2.7346938775510203, 2.020408163265306]\n",
      "[2.7755102040816326, 2.020408163265306]\n",
      "[2.816326530612245, 2.020408163265306]\n",
      "[2.857142857142857, 2.020408163265306]\n",
      "[2.8979591836734695, 2.020408163265306]\n",
      "[2.9387755102040813, 2.020408163265306]\n",
      "[2.979591836734694, 2.020408163265306]\n",
      "[3.020408163265306, 2.020408163265306]\n",
      "[3.061224489795918, 2.020408163265306]\n",
      "[3.1020408163265305, 2.020408163265306]\n",
      "[3.142857142857143, 2.020408163265306]\n"
     ]
    }
   ],
   "source": [
    "accepted_values = []\n",
    "for Ei in E0:\n",
    "    for Ai in A:\n",
    "        p = e(Ai,Energy,Ei)\n",
    "        r = [np.random.binomial(t,pi,500) for t, pi in zip(Trails,p)]\n",
    "        T = np.prod([binom.pmf(ri,t,pi) for ri, t, pi in zip(r, Trails, p)], axis=0)\n",
    "        T_sorted = np.sort(T)[::-1]\n",
    "        index_68 = np.around(T.shape[0]*0.68)\n",
    "        T_data = np.prod([binom.pmf(ri,t,pi) for ri, t, pi in zip(Successes, Trails, p)], axis=0)\n",
    "        if T_data >= T_sorted[int(index_68-1)]:\n",
    "            print([Ai,Ei])\n",
    "            accepted_values.append([Ai,Ei])\n",
    "accepted_values = np.array(accepted_values)"
   ]
  },
  {
   "cell_type": "markdown",
   "metadata": {},
   "source": [
    "## Plot"
   ]
  },
  {
   "cell_type": "code",
   "execution_count": 27,
   "metadata": {},
   "outputs": [
    {
     "data": {
      "text/plain": [
       "<matplotlib.legend.Legend at 0x1a1b6dd7b8>"
      ]
     },
     "execution_count": 27,
     "metadata": {},
     "output_type": "execute_result"
    },
    {
     "data": {
      "image/png": "[encoded data removed]",
      "text/plain": [
       "<Figure size 432x288 with 1 Axes>"
      ]
     },
     "metadata": {
      "needs_background": "light"
     },
     "output_type": "display_data"
    }
   ],
   "source": [
    "plt.scatter(AA,EE0, s = 1)\n",
    "plt.scatter(accepted_values[:,0],accepted_values[:,1], s=70, label = '$68\\% region$')\n",
    "plt.xlabel('A')\n",
    "plt.ylabel('$E_0$')\n",
    "plt.title('A, $E_0$ parameter grid')\n",
    "plt.legend()"
   ]
  },
  {
   "cell_type": "code",
   "execution_count": 13,
   "metadata": {},
   "outputs": [
    {
     "name": "stdout",
     "output_type": "stream",
     "text": [
      "The extrem values for the parameters are:\n",
      "A:(2.489795918367347,3.224489795918367)\n",
      "B:(1.8979591836734693,2.020408163265306)\n"
     ]
    }
   ],
   "source": [
    "print(f'The extrem values for the parameters are:\\nA:({np.min(accepted_values[:,0])},{np.max(accepted_values[:,0])})\\n'\n",
    "     +f'B:({np.min(accepted_values[:,1])},{np.max(accepted_values[:,1])})')"
   ]
  },
  {
   "cell_type": "markdown",
   "metadata": {},
   "source": [
    "## p-value"
   ]
  },
  {
   "cell_type": "code",
   "execution_count": 14,
   "metadata": {},
   "outputs": [],
   "source": [
    "p = e(2.98,Energy,2.02)\n",
    "r = [np.random.binomial(t,pi,500) for t, pi in zip(Trails,p)]\n",
    "T = np.prod([binom.pmf(ri,t,pi) for ri, t, pi in zip(r, Trails, p)], axis=0)"
   ]
  },
  {
   "cell_type": "code",
   "execution_count": 15,
   "metadata": {},
   "outputs": [],
   "source": [
    "T_data = np.prod([binom.pmf(ri,t,pi) for ri, t, pi in zip(Successes, Trails, p)], axis=0)"
   ]
  },
  {
   "cell_type": "code",
   "execution_count": 28,
   "metadata": {},
   "outputs": [
    {
     "data": {
      "text/plain": [
       "<matplotlib.legend.Legend at 0x1a1b93b2e8>"
      ]
     },
     "execution_count": 28,
     "metadata": {},
     "output_type": "execute_result"
    },
    {
     "data": {
      "image/png": "[encoded data removed]",
      "text/plain": [
       "<Figure size 432x288 with 1 Axes>"
      ]
     },
     "metadata": {
      "needs_background": "light"
     },
     "output_type": "display_data"
    }
   ],
   "source": [
    "n, bins, patches = plt.hist(np.log(T), density=True)\n",
    "line = plt.plot(np.log(T_data),0,'x', label = '$log(T_{data})$', color = 'red')[0]\n",
    "line.set_clip_on(False)\n",
    "plt.xlabel('log(T)')\n",
    "plt.ylabel('Percentage of Experiments', rotation = 'vertical')\n",
    "plt.title('Distribution of the log likelihood for the sigmoid model')\n",
    "plt.legend()\n"
   ]
  },
  {
   "cell_type": "code",
   "execution_count": 113,
   "metadata": {},
   "outputs": [
    {
     "data": {
      "text/plain": [
       "0.663999999999999"
      ]
     },
     "execution_count": 113,
     "metadata": {},
     "output_type": "execute_result"
    }
   ],
   "source": [
    "np.sum(n[:8]*(bins[1]-bins[0]))"
   ]
  },
  {
   "cell_type": "markdown",
   "metadata": {},
   "source": [
    "# Exercise 5.3"
   ]
  },
  {
   "cell_type": "code",
   "execution_count": 29,
   "metadata": {},
   "outputs": [],
   "source": [
    "def L(A,E0):\n",
    "    if (e(A,Energy,E0)<=0).any() or (A*(Energy-E0)>np.pi/2).any():\n",
    "        L = -np.inf\n",
    "        tup = (None,None)\n",
    "    else:\n",
    "        L = (np.array(Successes)*np.log(e(A,Energy,E0))+(np.array(Trails)-np.array(Successes))*np.log(1-e(A,Energy,E0))).sum()\n",
    "        tup = (A,E0)\n",
    "    return (L,tup) "
   ]
  },
  {
   "cell_type": "code",
   "execution_count": 30,
   "metadata": {},
   "outputs": [],
   "source": [
    "def MLE(A,E0):\n",
    "    a = np.array([[L(Ai,Ei)[0] for Ai in A] for Ei in E0])\n",
    "    ia, ie = np.unravel_index(np.argmax(a), a.shape)\n",
    "    return (A[ia],E0[ie])"
   ]
  },
  {
   "cell_type": "markdown",
   "metadata": {},
   "source": [
    "## Energy function"
   ]
  },
  {
   "cell_type": "code",
   "execution_count": 31,
   "metadata": {},
   "outputs": [],
   "source": [
    "def e(A, E, E0):\n",
    "    res = A*(E-E0)\n",
    "    return max(np.sin(res),0)\n",
    "\n",
    "e = np.vectorize(e)"
   ]
  },
  {
   "cell_type": "markdown",
   "metadata": {},
   "source": [
    "## Data"
   ]
  },
  {
   "cell_type": "code",
   "execution_count": 32,
   "metadata": {},
   "outputs": [],
   "source": [
    "Energy = [0.5, 1.0, 1.5, 2.0, 2.5, 3.0, 3.5, 4.0]\n",
    "Trails = [100, 100, 100, 100, 100, 100, 100, 100]\n",
    "Successes = [0, 4, 22, 55, 80, 97, 99, 99]\n",
    "df = pd.DataFrame({'Energy':Energy, 'Trails':Trails, 'Successes':Successes})"
   ]
  },
  {
   "cell_type": "code",
   "execution_count": 33,
   "metadata": {},
   "outputs": [
    {
     "data": {
      "text/html": [
       "<div>\n",
       "<style scoped>\n",
       "    .dataframe tbody tr th:only-of-type {\n",
       "        vertical-align: middle;\n",
       "    }\n",
       "\n",
       "    .dataframe tbody tr th {\n",
       "        vertical-align: top;\n",
       "    }\n",
       "\n",
       "    .dataframe thead th {\n",
       "        text-align: right;\n",
       "    }\n",
       "</style>\n",
       "<table border=\"1\" class=\"dataframe\">\n",
       "  <thead>\n",
       "    <tr style=\"text-align: right;\">\n",
       "      <th></th>\n",
       "      <th>Energy</th>\n",
       "      <th>Trails</th>\n",
       "      <th>Successes</th>\n",
       "    </tr>\n",
       "  </thead>\n",
       "  <tbody>\n",
       "    <tr>\n",
       "      <th>0</th>\n",
       "      <td>0.5</td>\n",
       "      <td>100</td>\n",
       "      <td>0</td>\n",
       "    </tr>\n",
       "    <tr>\n",
       "      <th>1</th>\n",
       "      <td>1.0</td>\n",
       "      <td>100</td>\n",
       "      <td>4</td>\n",
       "    </tr>\n",
       "    <tr>\n",
       "      <th>2</th>\n",
       "      <td>1.5</td>\n",
       "      <td>100</td>\n",
       "      <td>22</td>\n",
       "    </tr>\n",
       "    <tr>\n",
       "      <th>3</th>\n",
       "      <td>2.0</td>\n",
       "      <td>100</td>\n",
       "      <td>55</td>\n",
       "    </tr>\n",
       "    <tr>\n",
       "      <th>4</th>\n",
       "      <td>2.5</td>\n",
       "      <td>100</td>\n",
       "      <td>80</td>\n",
       "    </tr>\n",
       "    <tr>\n",
       "      <th>5</th>\n",
       "      <td>3.0</td>\n",
       "      <td>100</td>\n",
       "      <td>97</td>\n",
       "    </tr>\n",
       "    <tr>\n",
       "      <th>6</th>\n",
       "      <td>3.5</td>\n",
       "      <td>100</td>\n",
       "      <td>99</td>\n",
       "    </tr>\n",
       "    <tr>\n",
       "      <th>7</th>\n",
       "      <td>4.0</td>\n",
       "      <td>100</td>\n",
       "      <td>99</td>\n",
       "    </tr>\n",
       "  </tbody>\n",
       "</table>\n",
       "</div>"
      ],
      "text/plain": [
       "   Energy  Trails  Successes\n",
       "0     0.5     100          0\n",
       "1     1.0     100          4\n",
       "2     1.5     100         22\n",
       "3     2.0     100         55\n",
       "4     2.5     100         80\n",
       "5     3.0     100         97\n",
       "6     3.5     100         99\n",
       "7     4.0     100         99"
      ]
     },
     "execution_count": 33,
     "metadata": {},
     "output_type": "execute_result"
    }
   ],
   "source": [
    "df"
   ]
  },
  {
   "cell_type": "code",
   "execution_count": 34,
   "metadata": {},
   "outputs": [
    {
     "data": {
      "text/plain": [
       "[array(0.05931795),\n",
       " array(0.2108093),\n",
       " array(0.35737222),\n",
       " array(0.49558027),\n",
       " array(0.62220235),\n",
       " array(0.73427819),\n",
       " array(0.82918764),\n",
       " array(0.90471182)]"
      ]
     },
     "execution_count": 34,
     "metadata": {},
     "output_type": "execute_result"
    }
   ],
   "source": [
    "[e(0.3061,ee,0.3061) for t, ee in zip(Trails, Energy)]"
   ]
  },
  {
   "cell_type": "code",
   "execution_count": 35,
   "metadata": {},
   "outputs": [
    {
     "data": {
      "text/plain": [
       "[4, 24, 55, 64, 87, 98, 100, 99]"
      ]
     },
     "execution_count": 35,
     "metadata": {},
     "output_type": "execute_result"
    }
   ],
   "source": [
    "[np.random.binomial(t, max(e(0.4949,ee,0.4242),0)) for t, ee in zip(Trails, Energy)]"
   ]
  },
  {
   "cell_type": "markdown",
   "metadata": {},
   "source": [
    "## Grid"
   ]
  },
  {
   "cell_type": "code",
   "execution_count": 36,
   "metadata": {},
   "outputs": [],
   "source": [
    "A = np.linspace(0,1.0,20)\n",
    "E0 = np.linspace(0,1.0,20)\n",
    "\n",
    "EE0, AA = np.meshgrid(E0,A)"
   ]
  },
  {
   "cell_type": "code",
   "execution_count": 37,
   "metadata": {},
   "outputs": [
    {
     "name": "stdout",
     "output_type": "stream",
     "text": [
      "The Maximum Likelihood estimate is A=0.4737, E0=0.4211\n"
     ]
    }
   ],
   "source": [
    "A_MLE, E0_MLE = MLE(A,E0)\n",
    "print(f'The Maximum Likelihood estimate is A={np.round(A_MLE,4)}, E0={np.round(E0_MLE,4)}')"
   ]
  },
  {
   "cell_type": "code",
   "execution_count": 38,
   "metadata": {},
   "outputs": [],
   "source": [
    "accepted_values = []\n",
    "for Ei in E0:\n",
    "    for Ai in A:\n",
    "        p = e(Ai,Energy,Ei)\n",
    "        r = [np.random.binomial(t,max(pi,0),100) for t, pi in zip(Trails,p)]\n",
    "        T = np.log(np.sum([binom.pmf(ri,t,max(pi,0)) for ri, t, pi in zip(r, Trails, p)], axis=0))\n",
    "        T_sorted = np.sort(T)[::-1]\n",
    "        index_68 = np.around(T.shape[0]*0.68)\n",
    "        T_data = np.log(np.sum([binom.pmf(ri,t,max(pi,0)) for ri, t, pi in zip(Successes, Trails, p)], axis=0))\n",
    "        if T_data >= T_sorted[int(index_68-1)]:\n",
    "            print([Ai,Ei])\n",
    "            accepted_values.append([Ai,Ei])\n",
    "accepted_values = np.array(accepted_values)"
   ]
  },
  {
   "cell_type": "code",
   "execution_count": 39,
   "metadata": {},
   "outputs": [
    {
     "data": {
      "text/plain": [
       "array([], dtype=float64)"
      ]
     },
     "execution_count": 39,
     "metadata": {},
     "output_type": "execute_result"
    }
   ],
   "source": [
    "accepted_values"
   ]
  },
  {
   "cell_type": "code",
   "execution_count": 37,
   "metadata": {
    "scrolled": true
   },
   "outputs": [
    {
     "ename": "IndexError",
     "evalue": "too many indices for array",
     "output_type": "error",
     "traceback": [
      "\u001b[0;31m---------------------------------------------------------------------------\u001b[0m",
      "\u001b[0;31mIndexError\u001b[0m                                Traceback (most recent call last)",
      "\u001b[0;32m<ipython-input-37-996f185996c3>\u001b[0m in \u001b[0;36m<module>\u001b[0;34m\u001b[0m\n\u001b[1;32m      1\u001b[0m \u001b[0mplt\u001b[0m\u001b[0;34m.\u001b[0m\u001b[0mscatter\u001b[0m\u001b[0;34m(\u001b[0m\u001b[0mAA\u001b[0m\u001b[0;34m,\u001b[0m\u001b[0mEE0\u001b[0m\u001b[0;34m,\u001b[0m \u001b[0ms\u001b[0m \u001b[0;34m=\u001b[0m \u001b[0;36m1\u001b[0m\u001b[0;34m)\u001b[0m\u001b[0;34m\u001b[0m\u001b[0;34m\u001b[0m\u001b[0m\n\u001b[0;32m----> 2\u001b[0;31m \u001b[0mplt\u001b[0m\u001b[0;34m.\u001b[0m\u001b[0mscatter\u001b[0m\u001b[0;34m(\u001b[0m\u001b[0maccepted_values\u001b[0m\u001b[0;34m[\u001b[0m\u001b[0;34m:\u001b[0m\u001b[0;34m,\u001b[0m\u001b[0;36m0\u001b[0m\u001b[0;34m]\u001b[0m\u001b[0;34m,\u001b[0m\u001b[0maccepted_values\u001b[0m\u001b[0;34m[\u001b[0m\u001b[0;34m:\u001b[0m\u001b[0;34m,\u001b[0m\u001b[0;36m1\u001b[0m\u001b[0;34m]\u001b[0m\u001b[0;34m)\u001b[0m\u001b[0;34m\u001b[0m\u001b[0;34m\u001b[0m\u001b[0m\n\u001b[0m\u001b[1;32m      3\u001b[0m \u001b[0mplt\u001b[0m\u001b[0;34m.\u001b[0m\u001b[0mxlabel\u001b[0m\u001b[0;34m(\u001b[0m\u001b[0;34m'A'\u001b[0m\u001b[0;34m)\u001b[0m\u001b[0;34m\u001b[0m\u001b[0;34m\u001b[0m\u001b[0m\n\u001b[1;32m      4\u001b[0m \u001b[0mplt\u001b[0m\u001b[0;34m.\u001b[0m\u001b[0mylabel\u001b[0m\u001b[0;34m(\u001b[0m\u001b[0;34m'$E_0$'\u001b[0m\u001b[0;34m)\u001b[0m\u001b[0;34m\u001b[0m\u001b[0;34m\u001b[0m\u001b[0m\n\u001b[1;32m      5\u001b[0m \u001b[0mplt\u001b[0m\u001b[0;34m.\u001b[0m\u001b[0mtitle\u001b[0m\u001b[0;34m(\u001b[0m\u001b[0;34m'A, $E_0$ parameter grid'\u001b[0m\u001b[0;34m)\u001b[0m\u001b[0;34m\u001b[0m\u001b[0;34m\u001b[0m\u001b[0m\n",
      "\u001b[0;31mIndexError\u001b[0m: too many indices for array"
     ]
    },
    {
     "data": {
      "image/png": "[encoded data removed]",
      "text/plain": [
       "<Figure size 432x288 with 1 Axes>"
      ]
     },
     "metadata": {
      "needs_background": "light"
     },
     "output_type": "display_data"
    }
   ],
   "source": [
    "plt.scatter(AA,EE0, s = 1)\n",
    "plt.scatter(accepted_values[:,0],accepted_values[:,1])\n",
    "plt.xlabel('A')\n",
    "plt.ylabel('$E_0$')\n",
    "plt.title('A, $E_0$ parameter grid')"
   ]
  },
  {
   "cell_type": "markdown",
   "metadata": {},
   "source": [
    "## P-value"
   ]
  },
  {
   "cell_type": "code",
   "execution_count": 40,
   "metadata": {},
   "outputs": [],
   "source": [
    "p = e(0.4949,Energy,0.4242)\n",
    "r = [np.random.binomial(t,pi,100000) for t, pi in zip(Trails,p)]\n",
    "T = np.prod([binom.pmf(ri,t,pi) for ri, t, pi in zip(r, Trails, p)], axis=0)"
   ]
  },
  {
   "cell_type": "code",
   "execution_count": 41,
   "metadata": {},
   "outputs": [],
   "source": [
    "T_data = np.prod([binom.pmf(ri,t,pi) for ri, t, pi in zip(Successes, Trails, p)], axis=0)"
   ]
  },
  {
   "cell_type": "code",
   "execution_count": 42,
   "metadata": {},
   "outputs": [
    {
     "data": {
      "text/plain": [
       "-61.70836478741928"
      ]
     },
     "execution_count": 42,
     "metadata": {},
     "output_type": "execute_result"
    }
   ],
   "source": [
    "np.log(T_data)"
   ]
  },
  {
   "cell_type": "code",
   "execution_count": 44,
   "metadata": {},
   "outputs": [
    {
     "data": {
      "text/plain": [
       "<matplotlib.legend.Legend at 0x1a1bba2da0>"
      ]
     },
     "execution_count": 44,
     "metadata": {},
     "output_type": "execute_result"
    },
    {
     "data": {
      "image/png": "[encoded data removed]",
      "text/plain": [
       "<Figure size 432x288 with 1 Axes>"
      ]
     },
     "metadata": {
      "needs_background": "light"
     },
     "output_type": "display_data"
    }
   ],
   "source": [
    "n, bins, patches = plt.hist(np.log(T), density=True, bins = np.arange(-70,-10))\n",
    "line = plt.plot(np.log(T_data),0,'x', label = '$log(T_{data})$', color = 'red')[0]\n",
    "line.set_clip_on(False)\n",
    "plt.xlabel('log(T)')\n",
    "plt.ylabel('Percentage of Experiments', rotation = 'vertical')\n",
    "plt.title('Distribution of the log likelihood for the sin(x) model')\n",
    "plt.legend()\n"
   ]
  },
  {
   "cell_type": "code",
   "execution_count": 203,
   "metadata": {},
   "outputs": [],
   "source": [
    "hist, bins = np.histogram(np.log(T), bins = 100, range = (-70,-60) )"
   ]
  },
  {
   "cell_type": "code",
   "execution_count": 204,
   "metadata": {},
   "outputs": [
    {
     "data": {
      "text/plain": [
       "array([0, 0, 0, 0, 0, 0, 0, 0, 0, 0, 0, 0, 0, 0, 0, 0, 0, 0, 0, 0, 0, 0,\n",
       "       0, 0, 0, 0, 0, 0, 0, 0, 0, 0, 0, 0, 0, 0, 0, 0, 0, 0, 0, 0, 0, 0,\n",
       "       0, 0, 0, 0, 0, 0, 0, 0, 0, 0, 0, 0, 0, 0, 0, 0, 0, 0, 0, 0, 0, 0,\n",
       "       0, 0, 0, 0, 0, 0, 0, 0, 0, 0, 0, 0, 0, 0, 0, 0, 0, 0])"
      ]
     },
     "execution_count": 204,
     "metadata": {},
     "output_type": "execute_result"
    }
   ],
   "source": [
    "hist[:84]"
   ]
  },
  {
   "cell_type": "code",
   "execution_count": 160,
   "metadata": {},
   "outputs": [
    {
     "data": {
      "text/plain": [
       "-0.49204109766825727"
      ]
     },
     "execution_count": 160,
     "metadata": {},
     "output_type": "execute_result"
    }
   ],
   "source": [
    "p = e(0.4949,Energy,0.4242)\n",
    "T_data = np.log(np.sum([binom.pmf(ri,t,max(pi,0)) for ri, t, pi in zip(Successes, Trails, p)], axis=0))\n",
    "T_data"
   ]
  },
  {
   "cell_type": "code",
   "execution_count": 162,
   "metadata": {},
   "outputs": [
    {
     "data": {
      "text/plain": [
       "0.44744598315209755"
      ]
     },
     "execution_count": 162,
     "metadata": {},
     "output_type": "execute_result"
    }
   ],
   "source": [
    "T = np.log(np.sum([binom.pmf(ri,t,max(pi,0)) for ri, t, pi in zip(r, Trails, p)], axis=0))\n",
    "T_sorted = np.sort(T)[::-1]\n",
    "index_68 = np.around(T.shape[0]*0.68)\n",
    "T_sorted[int(index_68-1)]"
   ]
  }
 ],
 "metadata": {
  "kernelspec": {
   "display_name": "Python (cellrank)",
   "language": "python",
   "name": "cellrank"
  },
  "language_info": {
   "codemirror_mode": {
    "name": "ipython",
    "version": 3
   },
   "file_extension": ".py",
   "mimetype": "text/x-python",
   "name": "python",
   "nbconvert_exporter": "python",
   "pygments_lexer": "ipython3",
   "version": "3.6.9"
  },
  "toc": {
   "base_numbering": 1,
   "nav_menu": {},
   "number_sections": true,
   "sideBar": true,
   "skip_h1_title": false,
   "title_cell": "Table of Contents",
   "title_sidebar": "Contents",
   "toc_cell": false,
   "toc_position": {},
   "toc_section_display": true,
   "toc_window_display": false
  }
 },
 "nbformat": 4,
 "nbformat_minor": 2
}
